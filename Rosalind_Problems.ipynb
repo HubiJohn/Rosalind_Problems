{
  "nbformat": 4,
  "nbformat_minor": 0,
  "metadata": {
    "colab": {
      "provenance": [],
      "toc_visible": true
    },
    "kernelspec": {
      "name": "python3",
      "display_name": "Python 3"
    },
    "language_info": {
      "name": "python"
    }
  },
  "cells": [
    {
      "cell_type": "markdown",
      "source": [
        "#Intro"
      ],
      "metadata": {
        "id": "c-nOGUSe8Dtv"
      }
    },
    {
      "cell_type": "markdown",
      "source": [
        "Hello! Welcome to this notebook!\n",
        "My name is Hubert and I am a biotechnologist and a bioinformatician.\n",
        "\n",
        "This `.ipynb` file contains a collection of 20 [Rosalind Problems](https://rosalind.info/problems/list-view/) solved by me using only one 3rd party library: `pandas`."
      ],
      "metadata": {
        "id": "UJpse1ex8FB5"
      }
    },
    {
      "cell_type": "markdown",
      "source": [
        "I begin with my Setup: import `pandas` and define two helpful functions.\n",
        "\n",
        "\n",
        "\n",
        "\n"
      ],
      "metadata": {
        "id": "7pYZqb7S8pDy"
      }
    },
    {
      "cell_type": "markdown",
      "source": [
        "`parse_fasta()` is useful for working with FASTA files. It transforms a string conatining names and sequences in FASTA format into a `pandas.Dataframe` with columns `'name'` that contains names without the `>` symbol and `'seq'` that contains the sequences string all in uppercase. It is used by several functions defined for the problems."
      ],
      "metadata": {
        "id": "qWSJLa5u94nR"
      }
    },
    {
      "cell_type": "markdown",
      "source": [
        "`worklow()` is a function that works only if this file is opened in Google Colab. As you can download the .txt files for testing your functions from Rosalind, `workflow()` allows to conveniently upload them to Google Colab, pass them to a function of choice and download the result .txt in just one step. the resulting txt file may be uploaded to Rosalind directly to assess the function."
      ],
      "metadata": {
        "id": "FVuszdzq-DHZ"
      }
    },
    {
      "cell_type": "markdown",
      "source": [
        "All Rosalind Problems are linked in their titles."
      ],
      "metadata": {
        "id": "jpS3e0NR-4l1"
      }
    },
    {
      "cell_type": "markdown",
      "source": [
        "Please note that some functions may actually call other functions that were defined previously, e.g `orf()` calls both `rna()` and `prot()` in its body."
      ],
      "metadata": {
        "id": "s7jX35wc96Mk"
      }
    },
    {
      "cell_type": "markdown",
      "source": [
        "#Setup"
      ],
      "metadata": {
        "id": "bAPCf3tj4yAW"
      }
    },
    {
      "cell_type": "markdown",
      "source": [
        "##Import `pandas`"
      ],
      "metadata": {
        "id": "xyCnUtC540Rx"
      }
    },
    {
      "cell_type": "code",
      "source": [
        "import pandas as pd"
      ],
      "metadata": {
        "id": "yPeLUaDFfg74"
      },
      "execution_count": 7,
      "outputs": []
    },
    {
      "cell_type": "markdown",
      "source": [
        "##`parse_fasta` function"
      ],
      "metadata": {
        "id": "8nee4mJf45mm"
      }
    },
    {
      "cell_type": "code",
      "source": [
        "def parse_fasta(fasta_file):\n",
        "  \"\"\"\n",
        "  Transforms a FASTA string into a pandas DataFrame with names and sequences\n",
        "  Given: string of sequences in FASTA format\n",
        "  Return: a pandas dataframe with 'name' and 'seq' columns with sequence data\n",
        "  \"\"\"\n",
        "  raw_fasta_list = fasta_file.split()\n",
        "  fasta_df = pd.DataFrame(columns=[\"name\", \"seq\"])\n",
        "  seq=\"\"\n",
        "  for line in raw_fasta_list:\n",
        "    if line[0] == \">\":\n",
        "      if len(seq) > 0:\n",
        "        new_seq = pd.DataFrame({'name': [name], 'seq': [seq.strip().upper()]})\n",
        "        fasta_df = pd.concat([fasta_df, new_seq], ignore_index=True)\n",
        "\n",
        "      name = line.replace(\">\", \"\")\n",
        "      seq=\"\"\n",
        "    else:\n",
        "      seq += line\n",
        "\n",
        "  new_seq = pd.DataFrame({'name': [name], 'seq': [seq.strip().upper()]})\n",
        "  fasta_df = pd.concat([fasta_df, new_seq], ignore_index=True)\n",
        "  return fasta_df"
      ],
      "metadata": {
        "id": "6LLQaUJDemlg"
      },
      "execution_count": 39,
      "outputs": []
    },
    {
      "cell_type": "code",
      "source": [
        "df = parse_fasta('>Rosalind_6404 CCTGCGGAAGATCGGCACTAGAATAGCCAGAACCGTTTCTCTGAGGCTTCCGGCCTTCCCTCCCACTAATAATTCTGAGG >Rosalind_5959 CCATCGGTAGCGCATCCTTAGTCCAATTAAGTCCCTATCCAGGCGCTCCGCCGAAGGTCTATATCCATTTGTCAGCAGACACGC >Rosalind_0808 CCACCCTCGTGGTATGGCTAGGCATTCAGGAACCGGAGAACGCTTCAGACCAGCCCGGACTGGGAACCTGCGGGCAGTAGGTGGAAT')\n",
        "df"
      ],
      "metadata": {
        "colab": {
          "base_uri": "https://localhost:8080/",
          "height": 143
        },
        "id": "d2SO-fhIhHd0",
        "outputId": "ddb222b8-0c90-44d6-eb59-1e6e6dee9c70"
      },
      "execution_count": 40,
      "outputs": [
        {
          "output_type": "execute_result",
          "data": {
            "text/plain": [
              "            name                                                seq\n",
              "0  Rosalind_6404  CCTGCGGAAGATCGGCACTAGAATAGCCAGAACCGTTTCTCTGAGG...\n",
              "1  Rosalind_5959  CCATCGGTAGCGCATCCTTAGTCCAATTAAGTCCCTATCCAGGCGC...\n",
              "2  Rosalind_0808  CCACCCTCGTGGTATGGCTAGGCATTCAGGAACCGGAGAACGCTTC..."
            ],
            "text/html": [
              "\n",
              "  <div id=\"df-88fc5baa-4a9c-4eeb-b9e6-78881a1a1d21\" class=\"colab-df-container\">\n",
              "    <div>\n",
              "<style scoped>\n",
              "    .dataframe tbody tr th:only-of-type {\n",
              "        vertical-align: middle;\n",
              "    }\n",
              "\n",
              "    .dataframe tbody tr th {\n",
              "        vertical-align: top;\n",
              "    }\n",
              "\n",
              "    .dataframe thead th {\n",
              "        text-align: right;\n",
              "    }\n",
              "</style>\n",
              "<table border=\"1\" class=\"dataframe\">\n",
              "  <thead>\n",
              "    <tr style=\"text-align: right;\">\n",
              "      <th></th>\n",
              "      <th>name</th>\n",
              "      <th>seq</th>\n",
              "    </tr>\n",
              "  </thead>\n",
              "  <tbody>\n",
              "    <tr>\n",
              "      <th>0</th>\n",
              "      <td>Rosalind_6404</td>\n",
              "      <td>CCTGCGGAAGATCGGCACTAGAATAGCCAGAACCGTTTCTCTGAGG...</td>\n",
              "    </tr>\n",
              "    <tr>\n",
              "      <th>1</th>\n",
              "      <td>Rosalind_5959</td>\n",
              "      <td>CCATCGGTAGCGCATCCTTAGTCCAATTAAGTCCCTATCCAGGCGC...</td>\n",
              "    </tr>\n",
              "    <tr>\n",
              "      <th>2</th>\n",
              "      <td>Rosalind_0808</td>\n",
              "      <td>CCACCCTCGTGGTATGGCTAGGCATTCAGGAACCGGAGAACGCTTC...</td>\n",
              "    </tr>\n",
              "  </tbody>\n",
              "</table>\n",
              "</div>\n",
              "    <div class=\"colab-df-buttons\">\n",
              "\n",
              "  <div class=\"colab-df-container\">\n",
              "    <button class=\"colab-df-convert\" onclick=\"convertToInteractive('df-88fc5baa-4a9c-4eeb-b9e6-78881a1a1d21')\"\n",
              "            title=\"Convert this dataframe to an interactive table.\"\n",
              "            style=\"display:none;\">\n",
              "\n",
              "  <svg xmlns=\"http://www.w3.org/2000/svg\" height=\"24px\" viewBox=\"0 -960 960 960\">\n",
              "    <path d=\"M120-120v-720h720v720H120Zm60-500h600v-160H180v160Zm220 220h160v-160H400v160Zm0 220h160v-160H400v160ZM180-400h160v-160H180v160Zm440 0h160v-160H620v160ZM180-180h160v-160H180v160Zm440 0h160v-160H620v160Z\"/>\n",
              "  </svg>\n",
              "    </button>\n",
              "\n",
              "  <style>\n",
              "    .colab-df-container {\n",
              "      display:flex;\n",
              "      gap: 12px;\n",
              "    }\n",
              "\n",
              "    .colab-df-convert {\n",
              "      background-color: #E8F0FE;\n",
              "      border: none;\n",
              "      border-radius: 50%;\n",
              "      cursor: pointer;\n",
              "      display: none;\n",
              "      fill: #1967D2;\n",
              "      height: 32px;\n",
              "      padding: 0 0 0 0;\n",
              "      width: 32px;\n",
              "    }\n",
              "\n",
              "    .colab-df-convert:hover {\n",
              "      background-color: #E2EBFA;\n",
              "      box-shadow: 0px 1px 2px rgba(60, 64, 67, 0.3), 0px 1px 3px 1px rgba(60, 64, 67, 0.15);\n",
              "      fill: #174EA6;\n",
              "    }\n",
              "\n",
              "    .colab-df-buttons div {\n",
              "      margin-bottom: 4px;\n",
              "    }\n",
              "\n",
              "    [theme=dark] .colab-df-convert {\n",
              "      background-color: #3B4455;\n",
              "      fill: #D2E3FC;\n",
              "    }\n",
              "\n",
              "    [theme=dark] .colab-df-convert:hover {\n",
              "      background-color: #434B5C;\n",
              "      box-shadow: 0px 1px 3px 1px rgba(0, 0, 0, 0.15);\n",
              "      filter: drop-shadow(0px 1px 2px rgba(0, 0, 0, 0.3));\n",
              "      fill: #FFFFFF;\n",
              "    }\n",
              "  </style>\n",
              "\n",
              "    <script>\n",
              "      const buttonEl =\n",
              "        document.querySelector('#df-88fc5baa-4a9c-4eeb-b9e6-78881a1a1d21 button.colab-df-convert');\n",
              "      buttonEl.style.display =\n",
              "        google.colab.kernel.accessAllowed ? 'block' : 'none';\n",
              "\n",
              "      async function convertToInteractive(key) {\n",
              "        const element = document.querySelector('#df-88fc5baa-4a9c-4eeb-b9e6-78881a1a1d21');\n",
              "        const dataTable =\n",
              "          await google.colab.kernel.invokeFunction('convertToInteractive',\n",
              "                                                    [key], {});\n",
              "        if (!dataTable) return;\n",
              "\n",
              "        const docLinkHtml = 'Like what you see? Visit the ' +\n",
              "          '<a target=\"_blank\" href=https://colab.research.google.com/notebooks/data_table.ipynb>data table notebook</a>'\n",
              "          + ' to learn more about interactive tables.';\n",
              "        element.innerHTML = '';\n",
              "        dataTable['output_type'] = 'display_data';\n",
              "        await google.colab.output.renderOutput(dataTable, element);\n",
              "        const docLink = document.createElement('div');\n",
              "        docLink.innerHTML = docLinkHtml;\n",
              "        element.appendChild(docLink);\n",
              "      }\n",
              "    </script>\n",
              "  </div>\n",
              "\n",
              "\n",
              "<div id=\"df-b897839f-23b6-48a9-baf0-509cf0c215f4\">\n",
              "  <button class=\"colab-df-quickchart\" onclick=\"quickchart('df-b897839f-23b6-48a9-baf0-509cf0c215f4')\"\n",
              "            title=\"Suggest charts\"\n",
              "            style=\"display:none;\">\n",
              "\n",
              "<svg xmlns=\"http://www.w3.org/2000/svg\" height=\"24px\"viewBox=\"0 0 24 24\"\n",
              "     width=\"24px\">\n",
              "    <g>\n",
              "        <path d=\"M19 3H5c-1.1 0-2 .9-2 2v14c0 1.1.9 2 2 2h14c1.1 0 2-.9 2-2V5c0-1.1-.9-2-2-2zM9 17H7v-7h2v7zm4 0h-2V7h2v10zm4 0h-2v-4h2v4z\"/>\n",
              "    </g>\n",
              "</svg>\n",
              "  </button>\n",
              "\n",
              "<style>\n",
              "  .colab-df-quickchart {\n",
              "      --bg-color: #E8F0FE;\n",
              "      --fill-color: #1967D2;\n",
              "      --hover-bg-color: #E2EBFA;\n",
              "      --hover-fill-color: #174EA6;\n",
              "      --disabled-fill-color: #AAA;\n",
              "      --disabled-bg-color: #DDD;\n",
              "  }\n",
              "\n",
              "  [theme=dark] .colab-df-quickchart {\n",
              "      --bg-color: #3B4455;\n",
              "      --fill-color: #D2E3FC;\n",
              "      --hover-bg-color: #434B5C;\n",
              "      --hover-fill-color: #FFFFFF;\n",
              "      --disabled-bg-color: #3B4455;\n",
              "      --disabled-fill-color: #666;\n",
              "  }\n",
              "\n",
              "  .colab-df-quickchart {\n",
              "    background-color: var(--bg-color);\n",
              "    border: none;\n",
              "    border-radius: 50%;\n",
              "    cursor: pointer;\n",
              "    display: none;\n",
              "    fill: var(--fill-color);\n",
              "    height: 32px;\n",
              "    padding: 0;\n",
              "    width: 32px;\n",
              "  }\n",
              "\n",
              "  .colab-df-quickchart:hover {\n",
              "    background-color: var(--hover-bg-color);\n",
              "    box-shadow: 0 1px 2px rgba(60, 64, 67, 0.3), 0 1px 3px 1px rgba(60, 64, 67, 0.15);\n",
              "    fill: var(--button-hover-fill-color);\n",
              "  }\n",
              "\n",
              "  .colab-df-quickchart-complete:disabled,\n",
              "  .colab-df-quickchart-complete:disabled:hover {\n",
              "    background-color: var(--disabled-bg-color);\n",
              "    fill: var(--disabled-fill-color);\n",
              "    box-shadow: none;\n",
              "  }\n",
              "\n",
              "  .colab-df-spinner {\n",
              "    border: 2px solid var(--fill-color);\n",
              "    border-color: transparent;\n",
              "    border-bottom-color: var(--fill-color);\n",
              "    animation:\n",
              "      spin 1s steps(1) infinite;\n",
              "  }\n",
              "\n",
              "  @keyframes spin {\n",
              "    0% {\n",
              "      border-color: transparent;\n",
              "      border-bottom-color: var(--fill-color);\n",
              "      border-left-color: var(--fill-color);\n",
              "    }\n",
              "    20% {\n",
              "      border-color: transparent;\n",
              "      border-left-color: var(--fill-color);\n",
              "      border-top-color: var(--fill-color);\n",
              "    }\n",
              "    30% {\n",
              "      border-color: transparent;\n",
              "      border-left-color: var(--fill-color);\n",
              "      border-top-color: var(--fill-color);\n",
              "      border-right-color: var(--fill-color);\n",
              "    }\n",
              "    40% {\n",
              "      border-color: transparent;\n",
              "      border-right-color: var(--fill-color);\n",
              "      border-top-color: var(--fill-color);\n",
              "    }\n",
              "    60% {\n",
              "      border-color: transparent;\n",
              "      border-right-color: var(--fill-color);\n",
              "    }\n",
              "    80% {\n",
              "      border-color: transparent;\n",
              "      border-right-color: var(--fill-color);\n",
              "      border-bottom-color: var(--fill-color);\n",
              "    }\n",
              "    90% {\n",
              "      border-color: transparent;\n",
              "      border-bottom-color: var(--fill-color);\n",
              "    }\n",
              "  }\n",
              "</style>\n",
              "\n",
              "  <script>\n",
              "    async function quickchart(key) {\n",
              "      const quickchartButtonEl =\n",
              "        document.querySelector('#' + key + ' button');\n",
              "      quickchartButtonEl.disabled = true;  // To prevent multiple clicks.\n",
              "      quickchartButtonEl.classList.add('colab-df-spinner');\n",
              "      try {\n",
              "        const charts = await google.colab.kernel.invokeFunction(\n",
              "            'suggestCharts', [key], {});\n",
              "      } catch (error) {\n",
              "        console.error('Error during call to suggestCharts:', error);\n",
              "      }\n",
              "      quickchartButtonEl.classList.remove('colab-df-spinner');\n",
              "      quickchartButtonEl.classList.add('colab-df-quickchart-complete');\n",
              "    }\n",
              "    (() => {\n",
              "      let quickchartButtonEl =\n",
              "        document.querySelector('#df-b897839f-23b6-48a9-baf0-509cf0c215f4 button');\n",
              "      quickchartButtonEl.style.display =\n",
              "        google.colab.kernel.accessAllowed ? 'block' : 'none';\n",
              "    })();\n",
              "  </script>\n",
              "</div>\n",
              "    </div>\n",
              "  </div>\n"
            ]
          },
          "metadata": {},
          "execution_count": 40
        }
      ]
    },
    {
      "cell_type": "markdown",
      "source": [
        "## `workflow` function"
      ],
      "metadata": {
        "id": "xGYS65TB4SUl"
      }
    },
    {
      "cell_type": "code",
      "source": [
        "def workflow(func:str):\n",
        "  \"\"\"\n",
        "  Upload/Download workflow for Google Colab\n",
        "  Given: Rosalind Problem function name as string\n",
        "  Return: none\n",
        "\n",
        "  This function allows to upload a txt file provided by Rosalind from the local\n",
        "  machine and pass it onto a function appropriate for the Problem.\n",
        "  This function downloads the output of the function as a txt file.\n",
        "  \"\"\"\n",
        "  output_filename = f'rosalind_{func}_output.txt'\n",
        "  function = eval(func)\n",
        "\n",
        "  from google.colab import files\n",
        "\n",
        "  def string_from_uploaded_file():\n",
        "    uploaded = files.upload()\n",
        "    for bytesObject in uploaded.values():\n",
        "      return bytesObject.decode('utf-8')\n",
        "\n",
        "  print(f'First download a dataset from Rosalind https://rosalind.info/problems/{func}/\\n')\n",
        "  print('Next upload this dataset by clicking the [Choose Files] button below:\\n')\n",
        "  input_string = string_from_uploaded_file()\n",
        "\n",
        "  output_string = function(input_string)\n",
        "\n",
        "  print(output_string)\n",
        "\n",
        "  with open(output_filename, 'w') as f:\n",
        "    f.write(output_string)\n",
        "\n",
        "  files.download(output_filename)"
      ],
      "metadata": {
        "id": "zuijWtWKZeVu"
      },
      "execution_count": null,
      "outputs": []
    },
    {
      "cell_type": "markdown",
      "source": [
        "#Rosalind Problems"
      ],
      "metadata": {
        "id": "iGQ0CVRBVnln"
      }
    },
    {
      "cell_type": "markdown",
      "source": [
        "##  DNA: [Counting DNA Nucleotides](https://rosalind.info/problems/dna/)"
      ],
      "metadata": {
        "id": "sBWo7yL_WFwP"
      }
    },
    {
      "cell_type": "code",
      "source": [
        "def dna(sequence):\n",
        "  \"\"\"\n",
        "  Solves: https://rosalind.info/problems/dna/\n",
        "  Given: A DNA string sequence of length at most 1000 nt.\n",
        "  Return: A string with four numbers (separated by spaces) counting the respective number of times that the symbols 'A', 'C', 'G', and 'T' occur in sequence.\n",
        "  \"\"\"\n",
        "  sequence = sequence.upper()\n",
        "\n",
        "  nt_count = [str(sequence.count(nt)) for nt in \"ACGT\"]\n",
        "  nt_count_str = \", \".join(nt_count)\n",
        "  return nt_count_str"
      ],
      "metadata": {
        "id": "ePGwn6Wg8wLb"
      },
      "execution_count": 50,
      "outputs": []
    },
    {
      "cell_type": "code",
      "source": [
        "dna_sample = \"AGCTTTTCATTCTGACTGCAACGGGCAATATGTCTCTGTGTGGATTAAAAAAAGAGTGTCTGATAGCAGC\"\n",
        "dna(dna_sample) == \"20, 12, 17, 21\""
      ],
      "metadata": {
        "colab": {
          "base_uri": "https://localhost:8080/"
        },
        "id": "oKmD3ETN8lRs",
        "outputId": "187572cb-be72-4af7-ebd8-cdb1ae685114"
      },
      "execution_count": 52,
      "outputs": [
        {
          "output_type": "execute_result",
          "data": {
            "text/plain": [
              "True"
            ]
          },
          "metadata": {},
          "execution_count": 52
        }
      ]
    },
    {
      "cell_type": "markdown",
      "source": [
        "## RNA: [Transcribing DNA into RNA](https://rosalind.info/problems/rna/)"
      ],
      "metadata": {
        "id": "E6OehxGF_HcQ"
      }
    },
    {
      "cell_type": "code",
      "source": [
        "def rna(dna_seq):\n",
        "  \"\"\"\n",
        "  Solves: https://rosalind.info/problems/rna/\n",
        "  Given: A DNA string dna_seq having length at most 1000 nt.\n",
        "  Return: The transcribed RNA string of dna_seq\n",
        "  \"\"\"\n",
        "  dna_seq = dna_seq.upper()\n",
        "  return dna_seq.replace(\"T\", \"U\")"
      ],
      "metadata": {
        "id": "4rpiCzpc_VmM"
      },
      "execution_count": 53,
      "outputs": []
    },
    {
      "cell_type": "code",
      "source": [
        "rna_sample = \"GATGGAACTTGACTACGTAAATT\"\n",
        "\n",
        "rna(rna_sample) == \"GAUGGAACUUGACUACGUAAAUU\""
      ],
      "metadata": {
        "colab": {
          "base_uri": "https://localhost:8080/"
        },
        "id": "kH54D433BsAQ",
        "outputId": "65e095f6-529c-4bae-daf5-ced5c8d62396"
      },
      "execution_count": 54,
      "outputs": [
        {
          "output_type": "execute_result",
          "data": {
            "text/plain": [
              "True"
            ]
          },
          "metadata": {},
          "execution_count": 54
        }
      ]
    },
    {
      "cell_type": "markdown",
      "source": [
        "## REVC: [Complementing a Strand of DNA](https://rosalind.info/problems/revc/)"
      ],
      "metadata": {
        "id": "7JQN4lxLDGjN"
      }
    },
    {
      "cell_type": "code",
      "source": [
        "def revc(dna_strand):\n",
        "  \"\"\"\n",
        "  Solves: https://rosalind.info/problems/revc/\n",
        "  Given: A DNA string dna_strand of length at most 1000 nt.\n",
        "  Return: The reverse complement of dna_strand\n",
        "  \"\"\"\n",
        "  reverse_strand = dna_strand[::-1]\n",
        "  complement_dict = {\"A\":\"T\", \"T\":\"A\", \"C\":\"G\", \"G\":\"C\"}\n",
        "  complementary_strand = \"\".join([complement_dict[nt] for nt in reverse_strand])\n",
        "\n",
        "  return complementary_strand"
      ],
      "metadata": {
        "id": "4KBR_ryLDF5C"
      },
      "execution_count": 55,
      "outputs": []
    },
    {
      "cell_type": "code",
      "source": [
        "revc_sample = \"AAAACCCGGT\"\n",
        "revc(revc_sample) == \"ACCGGGTTTT\""
      ],
      "metadata": {
        "colab": {
          "base_uri": "https://localhost:8080/"
        },
        "id": "v84OAbQCD6hJ",
        "outputId": "e9fffa35-d5d9-4819-cc69-52762c4d7895"
      },
      "execution_count": 56,
      "outputs": [
        {
          "output_type": "execute_result",
          "data": {
            "text/plain": [
              "True"
            ]
          },
          "metadata": {},
          "execution_count": 56
        }
      ]
    },
    {
      "cell_type": "markdown",
      "source": [
        "## GC: [Computing GC Content](https://rosalind.info/problems/gc/)"
      ],
      "metadata": {
        "id": "yaD7qCXstNuL"
      }
    },
    {
      "cell_type": "code",
      "source": [
        "def gc(dna_fasta):\n",
        "  \"\"\"\n",
        "  Solves: https://rosalind.info/problems/gc/\n",
        "  Given: DNA strings in FASTA format.\n",
        "  Return: A string that consists of: The ID of the sequence having the highest GC-content, followed by the GC-content of that string [%]\n",
        "  \"\"\"\n",
        "  seq_df = parse_fasta(dna_fasta)\n",
        "\n",
        "  def gc_proc(seq):\n",
        "    return (seq.count(\"G\")+seq.count(\"C\"))/len(seq)*100\n",
        "\n",
        "  seq_df['gc_content'] = [gc_proc(seq) for seq in seq_df['seq']]\n",
        "\n",
        "  max_gc = seq_df[seq_df['gc_content'] == seq_df['gc_content'].max()]\n",
        "\n",
        "  return max_gc['name'].values[0] +'\\n'+ str(max_gc['gc_content'].values[0])\n"
      ],
      "metadata": {
        "id": "Zu2fUH7gth8b"
      },
      "execution_count": 63,
      "outputs": []
    },
    {
      "cell_type": "code",
      "source": [
        "gc_sample = '>Rosalind_6404 CCTGCGGAAGATCGGCACTAGAATAGCCAGAACCGTTTCTCTGAGGCTTCCGGCCTTCCCTCCCACTAATAATTCTGAGG >Rosalind_5959 CCATCGGTAGCGCATCCTTAGTCCAATTAAGTCCCTATCCAGGCGCTCCGCCGAAGGTCTATATCCATTTGTCAGCAGACACGC >Rosalind_0808 CCACCCTCGTGGTATGGCTAGGCATTCAGGAACCGGAGAACGCTTCAGACCAGCCCGGACTGGGAACCTGCGGGCAGTAGGTGGAAT'\n",
        "print(gc(gc_sample))\n"
      ],
      "metadata": {
        "colab": {
          "base_uri": "https://localhost:8080/"
        },
        "id": "7zcFsgsiwLqX",
        "outputId": "41803946-3d5f-4dde-98f4-95e1f08c6f02"
      },
      "execution_count": 65,
      "outputs": [
        {
          "output_type": "stream",
          "name": "stdout",
          "text": [
            "Rosalind_0808\n",
            "60.91954022988506\n"
          ]
        }
      ]
    },
    {
      "cell_type": "markdown",
      "source": [
        "## HAMM: [Counting Point Mutations](https://rosalind.info/problems/hamm/)"
      ],
      "metadata": {
        "id": "CzA5hUsfmSCf"
      }
    },
    {
      "cell_type": "code",
      "source": [
        "def hamm(seq, seq_alt):\n",
        "  \"\"\"\n",
        "  Solves https://rosalind.info/problems/hamm/\n",
        "  Given: Two DNA strings seq and seq_alt of equal length.\n",
        "  Return: The Hamming distance dH(seq, seq_alt) as stringwhich corresponds to number of point mutations\n",
        "  \"\"\"\n",
        "  seq = seq.upper()\n",
        "  seq_alt = seq_alt.upper()\n",
        "  mutation_count = sum([seq[n]!=seq_alt[n] for n in range(len(seq))])\n",
        "  return str(mutation_count)"
      ],
      "metadata": {
        "id": "cP_ei16rn09n"
      },
      "execution_count": 68,
      "outputs": []
    },
    {
      "cell_type": "code",
      "source": [
        "hamm_sample1 = 'GAGCCTACTAACGGGAT'\n",
        "hamm_sample2 = 'CATCGTAATGACGGCCT'\n",
        "hamm(hamm_sample1, hamm_sample2) == '7'"
      ],
      "metadata": {
        "colab": {
          "base_uri": "https://localhost:8080/"
        },
        "id": "YbbJ0qrmpI8v",
        "outputId": "1560b586-0758-44fe-f668-6e3048687528"
      },
      "execution_count": 69,
      "outputs": [
        {
          "output_type": "execute_result",
          "data": {
            "text/plain": [
              "True"
            ]
          },
          "metadata": {},
          "execution_count": 69
        }
      ]
    },
    {
      "cell_type": "markdown",
      "source": [
        "## SUBS: [Finding a Motif in DNA](https://rosalind.info/problems/subs/)"
      ],
      "metadata": {
        "id": "gSA237kL57w1"
      }
    },
    {
      "cell_type": "code",
      "source": [
        "def subs(seq, motif):\n",
        "  \"\"\"\n",
        "  Solves: https://rosalind.info/problems/subs/\n",
        "  Given: two DNA strings: seq and motif\n",
        "  Return: All locations of motif in seq as a string\n",
        "  \"\"\"\n",
        "  nt = 0\n",
        "  motif_length = len(motif)\n",
        "  position_list = []\n",
        "  for nucleotide in seq[:-motif_length]:\n",
        "    if nucleotide == motif[0]:\n",
        "      if seq[nt:nt+motif_length] == motif:\n",
        "        position_list.append(str(nt+1))\n",
        "    nt+= 1\n",
        "  return \" \".join(position_list)"
      ],
      "metadata": {
        "id": "jK3GV6i_lRo1"
      },
      "execution_count": 70,
      "outputs": []
    },
    {
      "cell_type": "code",
      "source": [
        "subs_sample_seq = \"GATATATGCATATACTT\"\n",
        "subs_sample_motif = \"ATAT\"\n",
        "\n",
        "print(subs(subs_sample_seq, subs_sample_motif))"
      ],
      "metadata": {
        "colab": {
          "base_uri": "https://localhost:8080/"
        },
        "id": "LSbVVaRHnqCi",
        "outputId": "c31c6a22-02bc-4291-993c-23da8aa628dc"
      },
      "execution_count": 71,
      "outputs": [
        {
          "output_type": "stream",
          "name": "stdout",
          "text": [
            "2 4 10\n"
          ]
        }
      ]
    },
    {
      "cell_type": "markdown",
      "source": [
        "## GRPH: [Overlap Graphs](https://rosalind.info/problems/grph/)"
      ],
      "metadata": {
        "id": "M5GIu12l5-Hw"
      }
    },
    {
      "cell_type": "code",
      "source": [
        "def grph(fasta, k=3):\n",
        "  \"\"\"\n",
        "  Solves: https://rosalind.info/problems/grph/\n",
        "  Given: A collection of DNA strings in FASTA format.\n",
        "  Return: The adjacency list corresponding to O3 as a string\n",
        "  \"\"\"\n",
        "\n",
        "  name_list = parse_fasta(fasta)['name']\n",
        "  seq_list = parse_fasta(fasta)['seq']\n",
        "  output_string=\"\"\n",
        "\n",
        "  n_1 = 0\n",
        "  for sequence1 in seq_list:\n",
        "    tail = sequence1[-k:]\n",
        "\n",
        "    n_2 = 0\n",
        "    for sequence2 in seq_list:\n",
        "      if sequence1 != sequence2:\n",
        "        head = sequence2[:k]\n",
        "        if tail == head:\n",
        "          output_string = output_string + name_list[n_1] + \" \" + name_list[n_2] + \"\\n\"\n",
        "      n_2 += 1\n",
        "    n_1 += 1\n",
        "\n",
        "  return(output_string[:-1])"
      ],
      "metadata": {
        "id": "Jzr2_TMho4fQ"
      },
      "execution_count": 74,
      "outputs": []
    },
    {
      "cell_type": "code",
      "source": [
        "grph_sample = \">Rosalind_0498\\nAAAT\\nAAA\\n>Rosalind_2391\\nAAATTTT\\n>Rosalind_2323\\nTTTTCCC\\n>Rosalind_0442\\nAAATCCC\\n>Rosalind_5013\\nGGGTGGG\"\n",
        "print(grph(grph_sample))"
      ],
      "metadata": {
        "colab": {
          "base_uri": "https://localhost:8080/"
        },
        "id": "kGIpAGMCrc6W",
        "outputId": "7b7c6026-7c38-4619-daa3-479139decb6c"
      },
      "execution_count": 75,
      "outputs": [
        {
          "output_type": "stream",
          "name": "stdout",
          "text": [
            "Rosalind_0498 Rosalind_2391\n",
            "Rosalind_0498 Rosalind_0442\n",
            "Rosalind_2391 Rosalind_2323\n"
          ]
        }
      ]
    },
    {
      "cell_type": "markdown",
      "source": [
        "## LCSM: [Finding a Shared Motif](https://rosalind.info/problems/lcsm/)"
      ],
      "metadata": {
        "id": "uZkxwSG66laa"
      }
    },
    {
      "cell_type": "code",
      "execution_count": 78,
      "metadata": {
        "id": "QFdfYKu8ZHyd"
      },
      "outputs": [],
      "source": [
        "def lcsm(fasta):\n",
        "  \"\"\"\n",
        "  Solves: https://rosalind.info/problems/lcsm/\n",
        "  Given: A collection of DNA strings (max 100) of length at most 1 kbp each in FASTA format\n",
        "  Return: A longest common substring of the collection (if more are possible, only one is given)\n",
        "  \"\"\"\n",
        "\n",
        "  def get_common_subseq(seq_0, sequence_list, length):\n",
        "    for start in range(len(seq_0) - length + 1):\n",
        "        subsequence = seq_0[start:start+length]\n",
        "        for sequence in sequence_list:\n",
        "            if subsequence not in sequence:\n",
        "                break\n",
        "        else:\n",
        "            return subsequence\n",
        "    return \"\"\n",
        "\n",
        "  def get_longest_common_subseq(sequence_list):\n",
        "    seq_0 = sequence_list.pop(0)\n",
        "    left = 0\n",
        "    right = len(seq_0) + 1\n",
        "    while left + 1 < right:\n",
        "        mid = int((left + right) / 2)\n",
        "        if get_common_subseq(seq_0, sequence_list, mid) != \"\":\n",
        "            left = mid\n",
        "        else:\n",
        "            right = mid\n",
        "    return get_common_subseq(seq_0, sequence_list, left)\n",
        "\n",
        "  sequence_list = parse_fasta(fasta)['seq']\n",
        "\n",
        "  return get_longest_common_subseq(sequence_list)"
      ]
    },
    {
      "cell_type": "code",
      "source": [
        "lcsm_sample = \"\"\">Rosalind_1\n",
        "GATTACA\n",
        ">Rosalind_2\n",
        "TAGACCA\n",
        ">Rosalind_3\n",
        "ATACA\"\"\"\n",
        "lcsm(lcsm_sample) == \"AC\" or lcsm(lcsm_sample) == \"TA\""
      ],
      "metadata": {
        "colab": {
          "base_uri": "https://localhost:8080/"
        },
        "id": "7QilENYNT-xs",
        "outputId": "889bac45-95b8-4483-e3ab-d9e5a8998624"
      },
      "execution_count": 79,
      "outputs": [
        {
          "output_type": "execute_result",
          "data": {
            "text/plain": [
              "True"
            ]
          },
          "metadata": {},
          "execution_count": 79
        }
      ]
    },
    {
      "cell_type": "markdown",
      "source": [
        "##REVP: [Locating Restriction Sites](https://rosalind.info/problems/revp/)"
      ],
      "metadata": {
        "id": "VyPSfN396z0S"
      }
    },
    {
      "cell_type": "code",
      "source": [
        "def revp(fasta_seq):\n",
        "  \"\"\"\n",
        "  Solves: https://rosalind.info/problems/revp/\n",
        "  Given: A DNA string in FASTA format\n",
        "  Return: The position and length of every reverse palindrome in the string having length bewteen 4 and 12\n",
        "  \"\"\"\n",
        "\n",
        "  pos_len_df = pd.DataFrame(columns=['pos', 'len'])\n",
        "  sequence = parse_fasta(fasta_seq)['seq'][0]\n",
        "\n",
        "  for motif_length in range(4, 13):\n",
        "    for nt_index in range(len(sequence)-motif_length+1):\n",
        "      motif = sequence[nt_index : nt_index + motif_length]\n",
        "      if motif == revc(motif):\n",
        "        motif_df = pd.DataFrame({'pos':[(nt_index+1)], 'len':[motif_length]})\n",
        "        pos_len_df = pd.concat([pos_len_df, motif_df], ignore_index=True)\n",
        "        #pos_len_dict[nt_index+1] = motif_length\n",
        "\n",
        "  output_string =\"\"\n",
        "  sorted_df = pos_len_df.sort_values(by=\"pos\")\n",
        "  for index, row in sorted_df.iterrows():\n",
        "    output_string = output_string + str(row['pos']) +\" \"+ str(row['len']) + \" \\n\"\n",
        "\n",
        "  return(output_string)"
      ],
      "metadata": {
        "id": "pEO17rG9pm2b"
      },
      "execution_count": 104,
      "outputs": []
    },
    {
      "cell_type": "code",
      "source": [
        "revp_sample = \">Rosalind_24\\nTCAATGCATGCG\\nGGTCTATATGCAT\"\n",
        "print(revp(revp_sample))"
      ],
      "metadata": {
        "colab": {
          "base_uri": "https://localhost:8080/"
        },
        "id": "Vssw8ENYqiCG",
        "outputId": "8d3fd5cd-8158-440d-c4b4-ae75972ca962"
      },
      "execution_count": 105,
      "outputs": [
        {
          "output_type": "stream",
          "name": "stdout",
          "text": [
            "4 6 \n",
            "5 4 \n",
            "6 6 \n",
            "7 4 \n",
            "17 4 \n",
            "18 4 \n",
            "20 6 \n",
            "21 4 \n",
            "\n"
          ]
        }
      ]
    },
    {
      "cell_type": "markdown",
      "source": [
        "##PROT: [Translating RNA into Protein](https://rosalind.info/problems/prot/)"
      ],
      "metadata": {
        "id": "0bRIs_hr1Vme"
      }
    },
    {
      "cell_type": "code",
      "source": [
        "def prot(RNA_seq):\n",
        "  \"\"\"\n",
        "  Solves: https://rosalind.info/problems/prot/\n",
        "  Given: A RNA string corresponding to a strand of mature mRNA\n",
        "  Return: The protein string encoded by the mRNA\n",
        "  \"\"\"\n",
        "  genetic_code = {\n",
        "    'UUU': 'F',     'CUU': 'L',     'AUU': 'I',     'GUU': 'V',\n",
        "    'UUC': 'F',     'CUC': 'L',     'AUC': 'I',     'GUC': 'V',\n",
        "    'UUA': 'L',     'CUA': 'L',     'AUA': 'I',     'GUA': 'V',\n",
        "    'UUG': 'L',     'CUG': 'L',     'AUG': 'M',     'GUG': 'V',\n",
        "    'UCU': 'S',     'CCU': 'P',     'ACU': 'T',     'GCU': 'A',\n",
        "    'UCC': 'S',     'CCC': 'P',     'ACC': 'T',     'GCC': 'A',\n",
        "    'UCA': 'S',     'CCA': 'P',     'ACA': 'T',     'GCA': 'A',\n",
        "    'UCG': 'S',     'CCG': 'P',     'ACG': 'T',     'GCG': 'A',\n",
        "    'UAU': 'Y',     'CAU': 'H',     'AAU': 'N',     'GAU': 'D',\n",
        "    'UAC': 'Y',     'CAC': 'H',     'AAC': 'N',     'GAC': 'D',\n",
        "    'UAA': 'Stop',  'CAA': 'Q',     'AAA': 'K',     'GAA': 'E',\n",
        "    'UAG': 'Stop',  'CAG': 'Q',     'AAG': 'K',     'GAG': 'E',\n",
        "    'UGU': 'C',     'CGU': 'R',     'AGU': 'S',     'GGU': 'G',\n",
        "    'UGC': 'C',     'CGC': 'R',     'AGC': 'S',     'GGC': 'G',\n",
        "    'UGA': 'Stop',  'CGA': 'R',     'AGA': 'R',     'GGA': 'G',\n",
        "    'UGG': 'W',     'CGG': 'R',     'AGG': 'R',     'GGG': 'G'\n",
        "  }\n",
        "  protein=''\n",
        "  n=0\n",
        "  for nt in RNA_seq[:-2:3]:\n",
        "    codon = RNA_seq[n: n+3]\n",
        "    translation = genetic_code[codon]\n",
        "    if translation == 'Stop':\n",
        "      break\n",
        "    protein += translation\n",
        "    n+=3\n",
        "  return protein\n"
      ],
      "metadata": {
        "id": "T6rXfciw1g_Y"
      },
      "execution_count": 106,
      "outputs": []
    },
    {
      "cell_type": "code",
      "source": [
        "prot_sample = \"AUGGCCAUGGCGCCCAGAACUGAGAUCAAUAGUACCCGUAUUAACGGGUGA\"\n",
        "prot(prot_sample)"
      ],
      "metadata": {
        "colab": {
          "base_uri": "https://localhost:8080/",
          "height": 36
        },
        "id": "chyMswKL3W-u",
        "outputId": "823c373b-52e1-4468-d8e1-3b2977ec8326"
      },
      "execution_count": null,
      "outputs": [
        {
          "output_type": "execute_result",
          "data": {
            "text/plain": [
              "'MAMAPRTEINSTRING'"
            ],
            "application/vnd.google.colaboratory.intrinsic+json": {
              "type": "string"
            }
          },
          "metadata": {},
          "execution_count": 67
        }
      ]
    },
    {
      "cell_type": "markdown",
      "source": [
        "## MPRT: [Finding a Protein Motif](https://rosalind.info/problems/mprt/)\n"
      ],
      "metadata": {
        "id": "MGxuzsuc522e"
      }
    },
    {
      "cell_type": "code",
      "source": [
        "def mprt(UniProtIDs):\n",
        "  \"\"\"\n",
        "  Solves: https://rosalind.info/problems/mprt/\n",
        "  Given: At most 15 UniProt Protein Databes access IDs\n",
        "  Return: For each protein possessing the N-glycosylation motif,\n",
        "          output its given access ID followed by a list of locations\n",
        "          in the protein string where the motif can be found\n",
        "  \"\"\"\n",
        "\n",
        "  name_list = UniProtIDs.split()\n",
        "  name_seq_dict = {}\n",
        "  output_string = \"\"\n",
        "\n",
        "  import requests as rq\n",
        "\n",
        "  #get a name:sequence dictionary\n",
        "  for name in name_list:\n",
        "    id = name[:6]\n",
        "\n",
        "    url = f\"http://www.uniprot.org/uniprot/{id}.fasta\"\n",
        "    response = rq.get(url)\n",
        "    fasta_string = response.text\n",
        "\n",
        "    fasta_list = fasta_string.split(\"\\n\")\n",
        "    fasta_list = fasta_list[1:]\n",
        "\n",
        "    sequence = \"\".join(fasta_list)\n",
        "    name_seq_dict[name] = sequence\n",
        "\n",
        "  name_Nglyc_dict = {}\n",
        "\n",
        "  for protein in name_seq_dict:\n",
        "    name_Nglyc_dict[protein] = \"\"\n",
        "    n = 0\n",
        "    prot_seq = name_seq_dict[protein]\n",
        "    for aminoacid in prot_seq[:-4]:\n",
        "      if aminoacid == \"N\":\n",
        "        if (prot_seq[n+1] != \"P\") and ((prot_seq[n+2] == \"S\") or (prot_seq[n+2] ==\"T\")) and (prot_seq[n+3] != \"P\"):\n",
        "          name_Nglyc_dict[protein] = name_Nglyc_dict[protein] + str(n+1) +\" \"\n",
        "      n+=1\n",
        "\n",
        "  for name, positions in name_Nglyc_dict.items():\n",
        "    if positions != '':\n",
        "      output_string = output_string + name + \"\\n\"\n",
        "      output_string = output_string + positions[:-1] +\"\\n\"\n",
        "\n",
        "  output_string = output_string[:-1]\n",
        "  return output_string\n"
      ],
      "metadata": {
        "id": "G4v3kGLuOXwf"
      },
      "execution_count": 107,
      "outputs": []
    },
    {
      "cell_type": "code",
      "source": [
        "mprt_sample = \"\"\"\n",
        "A2Z669\n",
        "B5ZC00\n",
        "P07204_TRBM_HUMAN\n",
        "P20840_SAG1_YEAST\n",
        "\"\"\"\n",
        "print(mprt(mprt_sample))"
      ],
      "metadata": {
        "colab": {
          "base_uri": "https://localhost:8080/"
        },
        "id": "a0zhSt3kQFhA",
        "outputId": "35084c85-fccb-4122-9f5c-9298476d91f9"
      },
      "execution_count": 108,
      "outputs": [
        {
          "output_type": "stream",
          "name": "stdout",
          "text": [
            "B5ZC00\n",
            "85 118 142 306 395\n",
            "P07204_TRBM_HUMAN\n",
            "47 115 116 382 409\n",
            "P20840_SAG1_YEAST\n",
            "79 109 135 248 306 348 364 402 485 501 614\n"
          ]
        }
      ]
    },
    {
      "cell_type": "markdown",
      "source": [
        "## PRTM: [Calculating Protein Mass](https://rosalind.info/problems/prtm/)"
      ],
      "metadata": {
        "id": "JVnpsNSQ54hC"
      }
    },
    {
      "cell_type": "code",
      "source": [
        "def prtm(prot_seq):\n",
        "  \"\"\"\n",
        "  Solves: https://rosalind.info/problems/prtm/\n",
        "  Given: A protein string prot_seq of length at most 1000 aa.\n",
        "  Return: The total weight of the protein according to the\n",
        "          monoisotopic weights given here:\n",
        "          https://rosalind.info/glossary/monoisotopic-mass-table/\n",
        "  \"\"\"\n",
        "  aa_mass = {\n",
        "    'A': 71.03711,\n",
        "    'C': 103.00919,\n",
        "    'D': 115.02694,\n",
        "    'E': 129.04259,\n",
        "    'F': 147.06841,\n",
        "    'G': 57.02146,\n",
        "    'H': 137.05891,\n",
        "    'I': 113.08406,\n",
        "    'K': 128.09496,\n",
        "    'L': 113.08406,\n",
        "    'M': 131.04049,\n",
        "    'N': 114.04293,\n",
        "    'P': 97.05276,\n",
        "    'Q': 128.05858,\n",
        "    'R': 156.10111,\n",
        "    'S': 87.03203,\n",
        "    'T': 101.04768,\n",
        "    'V': 99.06841,\n",
        "    'W': 186.07931,\n",
        "    'Y': 163.06333\n",
        "  }\n",
        "\n",
        "  prot_seq = prot_seq.replace(\"\\r\", \"\")\n",
        "  prot_seq = prot_seq.replace(\"\\n\", \"\")\n",
        "\n",
        "  molecular_weight = sum([aa_mass[aa] for aa in prot_seq])\n",
        "\n",
        "  return str(round(molecular_weight, 3))"
      ],
      "metadata": {
        "id": "T1wydnwAaF1Y"
      },
      "execution_count": 111,
      "outputs": []
    },
    {
      "cell_type": "code",
      "source": [
        "prtm_sample = \"SKADYEK\"\n",
        "print(prtm(prtm_sample))"
      ],
      "metadata": {
        "colab": {
          "base_uri": "https://localhost:8080/"
        },
        "id": "5UsJMXTha_Ua",
        "outputId": "02fe2747-f7dc-477a-82e2-22793a7ed507"
      },
      "execution_count": 112,
      "outputs": [
        {
          "output_type": "stream",
          "name": "stdout",
          "text": [
            "821.392\n"
          ]
        }
      ]
    },
    {
      "cell_type": "markdown",
      "source": [
        "## SPLC: [RNA Splicing](https://rosalind.info/problems/splc/)"
      ],
      "metadata": {
        "id": "4_GZj8aJ56MT"
      }
    },
    {
      "cell_type": "code",
      "source": [
        "def splc(fasta):\n",
        "  \"\"\"\n",
        "  Solves: https://rosalind.info/problems/splc/\n",
        "  Given: A DNA string (of length at most 1 kbp) and a collection of\n",
        "         its substrings acting as introns. All strings are given in FASTA format\n",
        "  Return: A protein string resulting from transcribing and translating\n",
        "          the exons of the given DNA sequence\n",
        "  \"\"\"\n",
        "\n",
        "  DNA_seq = parse_fasta(fasta).iloc[0,1]\n",
        "  introns = parse_fasta(fasta).iloc[1:,1]\n",
        "\n",
        "  for intron in introns:\n",
        "    DNA_seq = DNA_seq.replace(intron, \"\")\n",
        "\n",
        "  mRNA_seq = rna(DNA_seq)\n",
        "\n",
        "  return prot(mRNA_seq)"
      ],
      "metadata": {
        "id": "l4eqELBn96S5"
      },
      "execution_count": 115,
      "outputs": []
    },
    {
      "cell_type": "code",
      "source": [
        "splc_sample = \"\"\"\n",
        ">Rosalind_10\n",
        "ATGGTCTACATAGCTGACAAACAGCACGTAGCAATCGGTCGAATCTCGAGAGGCATATGGTCACATGATCGGTCGAGCGTGTTTCAAAGTTTGCGCCTAG\n",
        ">Rosalind_12\n",
        "ATCGGTCGAA\n",
        ">Rosalind_15\n",
        "ATCGGTCGAGCGTGT\n",
        "\"\"\"\n",
        "\n",
        "splc(splc_sample)"
      ],
      "metadata": {
        "colab": {
          "base_uri": "https://localhost:8080/",
          "height": 36
        },
        "id": "KNV9Yfsm_Ev0",
        "outputId": "e043bd12-22bd-42d7-d5e6-b44931e95273"
      },
      "execution_count": 116,
      "outputs": [
        {
          "output_type": "execute_result",
          "data": {
            "text/plain": [
              "'MVYIADKQHVASREAYGHMFKVCA'"
            ],
            "application/vnd.google.colaboratory.intrinsic+json": {
              "type": "string"
            }
          },
          "metadata": {},
          "execution_count": 116
        }
      ]
    },
    {
      "cell_type": "markdown",
      "source": [
        "##ORF: [Open Reading Frames](https://rosalind.info/problems/orf/)"
      ],
      "metadata": {
        "id": "gynZ5VWgC3Ps"
      }
    },
    {
      "cell_type": "code",
      "source": [
        "def orf(fasta):\n",
        "  \"\"\"\n",
        "  Solves: https://rosalind.info/problems/orf/\n",
        "  Given: A DNA string of length at most 1 kbp in FASTA format\n",
        "  Return: Every distinct candidate protein string that can be translated from ORFs\n",
        "  \"\"\"\n",
        "\n",
        "  sequence = parse_fasta(fasta).iloc[0,1]\n",
        "  rev_compl = revc(sequence)\n",
        "\n",
        "  prot_seq = []\n",
        "\n",
        "  for n in range(len(sequence)-2):\n",
        "    if sequence[n:n+3] == \"ATG\":\n",
        "      prot_seq.append(prot(rna(sequence[n:])))\n",
        "\n",
        "  for n in range(len(rev_compl)-2):\n",
        "    if rev_compl[n:n+3] == \"ATG\":\n",
        "      prot_seq.append(prot(rna(rev_compl[n:])))\n",
        "\n",
        "  return \"\\n\".join(list(set(prot_seq)))"
      ],
      "metadata": {
        "id": "l8Mvx0KrOAsF"
      },
      "execution_count": 137,
      "outputs": []
    },
    {
      "cell_type": "code",
      "source": [
        "orf_sample = \"\"\"\n",
        ">Rosalind_99\n",
        "AGCCATGTAGCTAACTCAGGTTACATGGGGATGACCCCGCGACTTGGATTAGAGTCTCTTTTGGAATAAGCCTGAATGATCCGAGTAGCATCTCAG\n",
        "\"\"\"\n",
        "\n",
        "print(orf(orf_sample))"
      ],
      "metadata": {
        "colab": {
          "base_uri": "https://localhost:8080/"
        },
        "id": "gtHx57mgQRmG",
        "outputId": "600ff9ab-79d1-4913-df27-6751258dbecf"
      },
      "execution_count": 138,
      "outputs": [
        {
          "output_type": "stream",
          "name": "stdout",
          "text": [
            "MA\n",
            "MTPRLGLESLLE\n",
            "M\n",
            "MIRVASQ\n",
            "MLLGSFRLIPKETLIQVAGSSPCNLS\n",
            "MGMTPRLGLESLLE\n"
          ]
        }
      ]
    },
    {
      "cell_type": "markdown",
      "source": [
        "##MRNA: [Inferring mRNA from Protein](https://rosalind.info/problems/mrna/)"
      ],
      "metadata": {
        "id": "7837XZwjWApa"
      }
    },
    {
      "cell_type": "code",
      "source": [
        "def mrna(protein_seq):\n",
        "  \"\"\"Solves: https://rosalind.info/problems/mrna/\n",
        "\n",
        "  Given:  A protein string of length at most 1000 aa.\n",
        "  Return: The total number of different RNA strings\n",
        "          from which the protein could have been translated,\n",
        "          modulo 1,000,000. Stop codons are included.\n",
        "  \"\"\"\n",
        "\n",
        "  genetic_code = {\n",
        "        'UUU': 'F',     'CUU': 'L',     'AUU': 'I',     'GUU': 'V',\n",
        "        'UUC': 'F',     'CUC': 'L',     'AUC': 'I',     'GUC': 'V',\n",
        "        'UUA': 'L',     'CUA': 'L',     'AUA': 'I',     'GUA': 'V',\n",
        "        'UUG': 'L',     'CUG': 'L',     'AUG': 'M',     'GUG': 'V',\n",
        "        'UCU': 'S',     'CCU': 'P',     'ACU': 'T',     'GCU': 'A',\n",
        "        'UCC': 'S',     'CCC': 'P',     'ACC': 'T',     'GCC': 'A',\n",
        "        'UCA': 'S',     'CCA': 'P',     'ACA': 'T',     'GCA': 'A',\n",
        "        'UCG': 'S',     'CCG': 'P',     'ACG': 'T',     'GCG': 'A',\n",
        "        'UAU': 'Y',     'CAU': 'H',     'AAU': 'N',     'GAU': 'D',\n",
        "        'UAC': 'Y',     'CAC': 'H',     'AAC': 'N',     'GAC': 'D',\n",
        "        'UAA': 'Stop',  'CAA': 'Q',     'AAA': 'K',     'GAA': 'E',\n",
        "        'UAG': 'Stop',  'CAG': 'Q',     'AAG': 'K',     'GAG': 'E',\n",
        "        'UGU': 'C',     'CGU': 'R',     'AGU': 'S',     'GGU': 'G',\n",
        "        'UGC': 'C',     'CGC': 'R',     'AGC': 'S',     'GGC': 'G',\n",
        "        'UGA': 'Stop',  'CGA': 'R',     'AGA': 'R',     'GGA': 'G',\n",
        "        'UGG': 'W',     'CGG': 'R',     'AGG': 'R',     'GGG': 'G'\n",
        "  }\n",
        "  aminoacid_count = {}\n",
        "  for aminoacid in genetic_code.values():\n",
        "    if aminoacid not in aminoacid_count:\n",
        "      aminoacid_count[aminoacid] = 1\n",
        "    else:\n",
        "      aminoacid_count[aminoacid] += 1\n",
        "\n",
        "  protein_seq = protein_seq.replace(\"\\r\", \"\")\n",
        "  protein_seq = protein_seq.replace(\"\\n\", \"\")\n",
        "\n",
        "  combinations = 3\n",
        "  for aminoacid in protein_seq:\n",
        "    combinations *= aminoacid_count[aminoacid]\n",
        "\n",
        "  return str(combinations%1000000)\n",
        "\n"
      ],
      "metadata": {
        "id": "TOAAzpRfWUCJ"
      },
      "execution_count": null,
      "outputs": []
    },
    {
      "cell_type": "code",
      "source": [
        "mrna_sample = \"MA\"\n",
        "mrna(mrna_sample)"
      ],
      "metadata": {
        "colab": {
          "base_uri": "https://localhost:8080/",
          "height": 36
        },
        "id": "erjn7bYQZB8N",
        "outputId": "e5ad99be-c5be-489c-9294-0a1965cd0e0e"
      },
      "execution_count": null,
      "outputs": [
        {
          "output_type": "execute_result",
          "data": {
            "text/plain": [
              "'12'"
            ],
            "application/vnd.google.colaboratory.intrinsic+json": {
              "type": "string"
            }
          },
          "metadata": {},
          "execution_count": 4
        }
      ]
    },
    {
      "cell_type": "markdown",
      "source": [
        "##PERM: [Enumerating Gene Orders](https://rosalind.info/problems/perm/)"
      ],
      "metadata": {
        "id": "Ivj5dEeHC3fZ"
      }
    },
    {
      "cell_type": "code",
      "source": [
        "def perm(number):\n",
        "  \"\"\"Solves: https://rosalind.info/problems/perm/\n",
        "\n",
        "  Given:  A positive integer n, no larger than 7.\n",
        "  Return: The total number of permutations of length n,\n",
        "          followed by a list of such permutations.\n",
        "  \"\"\"\n",
        "  number = int(number)\n",
        "\n",
        "  def find_permutations(n):\n",
        "    \"\"\"\n",
        "    Helper function that finds number of permutation\n",
        "    Given: an integer\n",
        "    Returns: a list of permutations\n",
        "    \"\"\"\n",
        "    if n == 1:\n",
        "      return [[1]]\n",
        "    else:\n",
        "        prev_perm_list = find_permutations(n-1)\n",
        "        permutations = []\n",
        "        for prev_perm in prev_perm_list:\n",
        "            for i in range(n):\n",
        "                current_perm = prev_perm[:i] + [n] + prev_perm[i:]\n",
        "                permutations.append(current_perm)\n",
        "        return permutations\n",
        "\n",
        "\n",
        "  if number == 1:\n",
        "    return \"1\\n1\"\n",
        "\n",
        "  perm_list = find_permutations(number)\n",
        "\n",
        "  output_string = str(len(perm_list)) +'\\n'\n",
        "\n",
        "  for permutation in perm_list:\n",
        "    output_string += \" \".join(str(digit) for digit in permutation) + '\\n'\n",
        "\n",
        "  return output_string.strip()"
      ],
      "metadata": {
        "id": "xKW4MipPa9Vn"
      },
      "execution_count": null,
      "outputs": []
    },
    {
      "cell_type": "code",
      "source": [
        "print(perm(3))"
      ],
      "metadata": {
        "colab": {
          "base_uri": "https://localhost:8080/"
        },
        "id": "Zb4ewMDmjeEQ",
        "outputId": "1e5cb370-1502-4e88-baba-887a9df87655"
      },
      "execution_count": null,
      "outputs": [
        {
          "output_type": "stream",
          "name": "stdout",
          "text": [
            "6\n",
            "3 2 1\n",
            "2 3 1\n",
            "2 1 3\n",
            "3 1 2\n",
            "1 3 2\n",
            "1 2 3\n"
          ]
        }
      ]
    },
    {
      "cell_type": "markdown",
      "source": [
        "##IPRB [Mendel's First Law](https://rosalind.info/problems/iprb/)"
      ],
      "metadata": {
        "id": "fTaER61UaLnU"
      }
    },
    {
      "cell_type": "code",
      "source": [
        "def iprb(numbers : str):\n",
        "  \"\"\"Solves https://rosalind.info/problems/iprb/\n",
        "\n",
        "  Given:  Three positive integers k, m, and n, representing a population\n",
        "          containing k+m+n organisms: k individuals are homozygous dominant\n",
        "          for a factor, m are heterozygous, and n are homozygous recessive.\n",
        "  Return: The probability that two randomly selected mating organisms will\n",
        "          produce an individual possessing a dominant allele (and thus displaying\n",
        "          the dominant phenotype). Assume that any two organisms can mate.\n",
        "  \"\"\"\n",
        "\n",
        "  number_list = numbers.split()\n",
        "  k = int(number_list[0])\n",
        "  m = int(number_list[1])\n",
        "  n = int(number_list[2])\n",
        "  pop = k + m + n\n",
        "\n",
        "  prob_AA_AA = k/pop * (k-1)/(pop-1)\n",
        "  prob_AA_Aa = k/pop * m/(pop-1)\n",
        "  prob_AA_aa = k/pop * n/(pop-1)\n",
        "\n",
        "  prob_Aa_AA = m/pop * k/(pop-1)\n",
        "  prob_Aa_Aa = m/pop * (m-1)/(pop-1) * 0.75\n",
        "  prob_Aa_aa = m/pop * n/(pop-1) * 0.5\n",
        "\n",
        "  prob_aa_AA = n/pop * k/(pop-1)\n",
        "  prob_aa_Aa = n/pop * m/(pop-1) * 0.5\n",
        "\n",
        "  total_dom_offspring_prob = prob_AA_AA + prob_AA_Aa + prob_AA_aa + prob_Aa_AA + prob_Aa_Aa + prob_Aa_aa + prob_aa_AA + prob_aa_Aa\n",
        "\n",
        "  return(str(round(total_dom_offspring_prob, 5)))"
      ],
      "metadata": {
        "id": "cyEjrpkt_3iP"
      },
      "execution_count": null,
      "outputs": []
    },
    {
      "cell_type": "code",
      "source": [
        "help(iprb)"
      ],
      "metadata": {
        "colab": {
          "base_uri": "https://localhost:8080/"
        },
        "id": "4fVHl4mqw4fe",
        "outputId": "d835642c-c096-4c0e-ab15-fbbf5de62845"
      },
      "execution_count": null,
      "outputs": [
        {
          "output_type": "stream",
          "name": "stdout",
          "text": [
            "Help on function iprb in module __main__:\n",
            "\n",
            "iprb(numbers: str)\n",
            "    Solves https://rosalind.info/problems/iprb/\n",
            "    \n",
            "    Given:  Three positive integers k, m, and n, representing a population \n",
            "            containing k+m+n organisms: k individuals are homozygous dominant \n",
            "            for a factor, m are heterozygous, and n are homozygous recessive.\n",
            "    Return: The probability that two randomly selected mating organisms will \n",
            "            produce an individual possessing a dominant allele (and thus displaying \n",
            "            the dominant phenotype). Assume that any two organisms can mate.\n",
            "\n"
          ]
        }
      ]
    },
    {
      "cell_type": "code",
      "source": [
        "iprb_sample = \"2 2 2\"\n",
        "iprb(iprb_sample)"
      ],
      "metadata": {
        "colab": {
          "base_uri": "https://localhost:8080/",
          "height": 36
        },
        "id": "lZ6ZVtFwAsqS",
        "outputId": "b8179f79-a99d-40e2-dddd-8a8d1846eb43"
      },
      "execution_count": null,
      "outputs": [
        {
          "output_type": "execute_result",
          "data": {
            "text/plain": [
              "'0.78333'"
            ],
            "application/vnd.google.colaboratory.intrinsic+json": {
              "type": "string"
            }
          },
          "metadata": {},
          "execution_count": 13
        }
      ]
    },
    {
      "cell_type": "code",
      "source": [
        "def workflow(name):\n",
        "  output_filename = f'rosalind_{name}_output.txt'\n",
        "  function = eval(name)\n",
        "\n",
        "  from google.colab import files\n",
        "\n",
        "  def string_from_uploaded_file():\n",
        "    uploaded = files.upload()\n",
        "    for bytesObject in uploaded.values():\n",
        "      return bytesObject.decode('utf-8')\n",
        "\n",
        "  print(f'First download a dataset from Rosalind https://rosalind.info/problems/{name}/\\n')\n",
        "  print('Next upload this dataset by clicking the [Choose Files] button below:\\n')\n",
        "  input_string = string_from_uploaded_file()\n",
        "\n",
        "  output_string = function(input_string)\n",
        "\n",
        "  print(output_string)\n",
        "\n",
        "  with open(output_filename, 'w') as f:\n",
        "    f.write(output_string)\n",
        "\n",
        "  files.download(output_filename)"
      ],
      "metadata": {
        "id": "DVyRGAZvw2wG"
      },
      "execution_count": null,
      "outputs": []
    },
    {
      "cell_type": "code",
      "source": [
        "workflow(\"iprb\")"
      ],
      "metadata": {
        "id": "DXBfqFq8xGLm",
        "colab": {
          "base_uri": "https://localhost:8080/",
          "height": 160
        },
        "outputId": "d43204aa-486f-44fb-e5fe-4d91033e451d"
      },
      "execution_count": null,
      "outputs": [
        {
          "output_type": "stream",
          "name": "stdout",
          "text": [
            "First download a dataset from Rosalind https://rosalind.info/problems/iprb/\n",
            "\n",
            "Next upload this dataset by clicking the [Choose Files] button below:\n",
            "\n"
          ]
        },
        {
          "output_type": "display_data",
          "data": {
            "text/plain": [
              "<IPython.core.display.HTML object>"
            ],
            "text/html": [
              "\n",
              "     <input type=\"file\" id=\"files-684a4f7f-15e3-4f1f-aa87-96e8bfabf573\" name=\"files[]\" multiple disabled\n",
              "        style=\"border:none\" />\n",
              "     <output id=\"result-684a4f7f-15e3-4f1f-aa87-96e8bfabf573\">\n",
              "      Upload widget is only available when the cell has been executed in the\n",
              "      current browser session. Please rerun this cell to enable.\n",
              "      </output>\n",
              "      <script>// Copyright 2017 Google LLC\n",
              "//\n",
              "// Licensed under the Apache License, Version 2.0 (the \"License\");\n",
              "// you may not use this file except in compliance with the License.\n",
              "// You may obtain a copy of the License at\n",
              "//\n",
              "//      http://www.apache.org/licenses/LICENSE-2.0\n",
              "//\n",
              "// Unless required by applicable law or agreed to in writing, software\n",
              "// distributed under the License is distributed on an \"AS IS\" BASIS,\n",
              "// WITHOUT WARRANTIES OR CONDITIONS OF ANY KIND, either express or implied.\n",
              "// See the License for the specific language governing permissions and\n",
              "// limitations under the License.\n",
              "\n",
              "/**\n",
              " * @fileoverview Helpers for google.colab Python module.\n",
              " */\n",
              "(function(scope) {\n",
              "function span(text, styleAttributes = {}) {\n",
              "  const element = document.createElement('span');\n",
              "  element.textContent = text;\n",
              "  for (const key of Object.keys(styleAttributes)) {\n",
              "    element.style[key] = styleAttributes[key];\n",
              "  }\n",
              "  return element;\n",
              "}\n",
              "\n",
              "// Max number of bytes which will be uploaded at a time.\n",
              "const MAX_PAYLOAD_SIZE = 100 * 1024;\n",
              "\n",
              "function _uploadFiles(inputId, outputId) {\n",
              "  const steps = uploadFilesStep(inputId, outputId);\n",
              "  const outputElement = document.getElementById(outputId);\n",
              "  // Cache steps on the outputElement to make it available for the next call\n",
              "  // to uploadFilesContinue from Python.\n",
              "  outputElement.steps = steps;\n",
              "\n",
              "  return _uploadFilesContinue(outputId);\n",
              "}\n",
              "\n",
              "// This is roughly an async generator (not supported in the browser yet),\n",
              "// where there are multiple asynchronous steps and the Python side is going\n",
              "// to poll for completion of each step.\n",
              "// This uses a Promise to block the python side on completion of each step,\n",
              "// then passes the result of the previous step as the input to the next step.\n",
              "function _uploadFilesContinue(outputId) {\n",
              "  const outputElement = document.getElementById(outputId);\n",
              "  const steps = outputElement.steps;\n",
              "\n",
              "  const next = steps.next(outputElement.lastPromiseValue);\n",
              "  return Promise.resolve(next.value.promise).then((value) => {\n",
              "    // Cache the last promise value to make it available to the next\n",
              "    // step of the generator.\n",
              "    outputElement.lastPromiseValue = value;\n",
              "    return next.value.response;\n",
              "  });\n",
              "}\n",
              "\n",
              "/**\n",
              " * Generator function which is called between each async step of the upload\n",
              " * process.\n",
              " * @param {string} inputId Element ID of the input file picker element.\n",
              " * @param {string} outputId Element ID of the output display.\n",
              " * @return {!Iterable<!Object>} Iterable of next steps.\n",
              " */\n",
              "function* uploadFilesStep(inputId, outputId) {\n",
              "  const inputElement = document.getElementById(inputId);\n",
              "  inputElement.disabled = false;\n",
              "\n",
              "  const outputElement = document.getElementById(outputId);\n",
              "  outputElement.innerHTML = '';\n",
              "\n",
              "  const pickedPromise = new Promise((resolve) => {\n",
              "    inputElement.addEventListener('change', (e) => {\n",
              "      resolve(e.target.files);\n",
              "    });\n",
              "  });\n",
              "\n",
              "  const cancel = document.createElement('button');\n",
              "  inputElement.parentElement.appendChild(cancel);\n",
              "  cancel.textContent = 'Cancel upload';\n",
              "  const cancelPromise = new Promise((resolve) => {\n",
              "    cancel.onclick = () => {\n",
              "      resolve(null);\n",
              "    };\n",
              "  });\n",
              "\n",
              "  // Wait for the user to pick the files.\n",
              "  const files = yield {\n",
              "    promise: Promise.race([pickedPromise, cancelPromise]),\n",
              "    response: {\n",
              "      action: 'starting',\n",
              "    }\n",
              "  };\n",
              "\n",
              "  cancel.remove();\n",
              "\n",
              "  // Disable the input element since further picks are not allowed.\n",
              "  inputElement.disabled = true;\n",
              "\n",
              "  if (!files) {\n",
              "    return {\n",
              "      response: {\n",
              "        action: 'complete',\n",
              "      }\n",
              "    };\n",
              "  }\n",
              "\n",
              "  for (const file of files) {\n",
              "    const li = document.createElement('li');\n",
              "    li.append(span(file.name, {fontWeight: 'bold'}));\n",
              "    li.append(span(\n",
              "        `(${file.type || 'n/a'}) - ${file.size} bytes, ` +\n",
              "        `last modified: ${\n",
              "            file.lastModifiedDate ? file.lastModifiedDate.toLocaleDateString() :\n",
              "                                    'n/a'} - `));\n",
              "    const percent = span('0% done');\n",
              "    li.appendChild(percent);\n",
              "\n",
              "    outputElement.appendChild(li);\n",
              "\n",
              "    const fileDataPromise = new Promise((resolve) => {\n",
              "      const reader = new FileReader();\n",
              "      reader.onload = (e) => {\n",
              "        resolve(e.target.result);\n",
              "      };\n",
              "      reader.readAsArrayBuffer(file);\n",
              "    });\n",
              "    // Wait for the data to be ready.\n",
              "    let fileData = yield {\n",
              "      promise: fileDataPromise,\n",
              "      response: {\n",
              "        action: 'continue',\n",
              "      }\n",
              "    };\n",
              "\n",
              "    // Use a chunked sending to avoid message size limits. See b/62115660.\n",
              "    let position = 0;\n",
              "    do {\n",
              "      const length = Math.min(fileData.byteLength - position, MAX_PAYLOAD_SIZE);\n",
              "      const chunk = new Uint8Array(fileData, position, length);\n",
              "      position += length;\n",
              "\n",
              "      const base64 = btoa(String.fromCharCode.apply(null, chunk));\n",
              "      yield {\n",
              "        response: {\n",
              "          action: 'append',\n",
              "          file: file.name,\n",
              "          data: base64,\n",
              "        },\n",
              "      };\n",
              "\n",
              "      let percentDone = fileData.byteLength === 0 ?\n",
              "          100 :\n",
              "          Math.round((position / fileData.byteLength) * 100);\n",
              "      percent.textContent = `${percentDone}% done`;\n",
              "\n",
              "    } while (position < fileData.byteLength);\n",
              "  }\n",
              "\n",
              "  // All done.\n",
              "  yield {\n",
              "    response: {\n",
              "      action: 'complete',\n",
              "    }\n",
              "  };\n",
              "}\n",
              "\n",
              "scope.google = scope.google || {};\n",
              "scope.google.colab = scope.google.colab || {};\n",
              "scope.google.colab._files = {\n",
              "  _uploadFiles,\n",
              "  _uploadFilesContinue,\n",
              "};\n",
              "})(self);\n",
              "</script> "
            ]
          },
          "metadata": {}
        },
        {
          "output_type": "stream",
          "name": "stdout",
          "text": [
            "Saving 17 rosalind_iprb.txt to 17 rosalind_iprb.txt\n",
            "0.8001\n"
          ]
        },
        {
          "output_type": "display_data",
          "data": {
            "text/plain": [
              "<IPython.core.display.Javascript object>"
            ],
            "application/javascript": [
              "\n",
              "    async function download(id, filename, size) {\n",
              "      if (!google.colab.kernel.accessAllowed) {\n",
              "        return;\n",
              "      }\n",
              "      const div = document.createElement('div');\n",
              "      const label = document.createElement('label');\n",
              "      label.textContent = `Downloading \"${filename}\": `;\n",
              "      div.appendChild(label);\n",
              "      const progress = document.createElement('progress');\n",
              "      progress.max = size;\n",
              "      div.appendChild(progress);\n",
              "      document.body.appendChild(div);\n",
              "\n",
              "      const buffers = [];\n",
              "      let downloaded = 0;\n",
              "\n",
              "      const channel = await google.colab.kernel.comms.open(id);\n",
              "      // Send a message to notify the kernel that we're ready.\n",
              "      channel.send({})\n",
              "\n",
              "      for await (const message of channel.messages) {\n",
              "        // Send a message to notify the kernel that we're ready.\n",
              "        channel.send({})\n",
              "        if (message.buffers) {\n",
              "          for (const buffer of message.buffers) {\n",
              "            buffers.push(buffer);\n",
              "            downloaded += buffer.byteLength;\n",
              "            progress.value = downloaded;\n",
              "          }\n",
              "        }\n",
              "      }\n",
              "      const blob = new Blob(buffers, {type: 'application/binary'});\n",
              "      const a = document.createElement('a');\n",
              "      a.href = window.URL.createObjectURL(blob);\n",
              "      a.download = filename;\n",
              "      div.appendChild(a);\n",
              "      a.click();\n",
              "      div.remove();\n",
              "    }\n",
              "  "
            ]
          },
          "metadata": {}
        },
        {
          "output_type": "display_data",
          "data": {
            "text/plain": [
              "<IPython.core.display.Javascript object>"
            ],
            "application/javascript": [
              "download(\"download_f5aa0e7d-4464-403a-8b7e-07e50604ff3d\", \"rosalind_iprb_output.txt\", 6)"
            ]
          },
          "metadata": {}
        }
      ]
    },
    {
      "cell_type": "markdown",
      "source": [
        "##IEV: [Calculating Expected Offsrping](https://rosalind.info/problems/iev/)"
      ],
      "metadata": {
        "id": "VnsAyPsaaPor"
      }
    },
    {
      "cell_type": "code",
      "source": [
        "def iev(couple_numbers : str):\n",
        "  \"\"\"Solves: https://rosalind.info/problems/iev/\n",
        "\n",
        "  Given:  Six nonnegative integers, each of which does not exceed 20,000.\n",
        "          The integers correspond to the number of couples in a population\n",
        "          possessing each genotype pairing for a given factor. In order,\n",
        "          the six given integers represent the number of couples having the\n",
        "          following genotypes: AA-AA, AA-Aa, AA-aa, Aa-Aa, Aa-aa, aa-aa.\n",
        "  Return: The expected number of offspring displaying the dominant phenotype\n",
        "          in the next generation, under the assumption that every couple has\n",
        "          exactly two offspring.\n",
        "  \"\"\"\n",
        "  counts = couple_numbers.split()\n",
        "\n",
        "  def double(number):\n",
        "    number = int(number)\n",
        "    return number*2\n",
        "\n",
        "  counts = list(map(double, counts))\n",
        "\n",
        "  counts[3] = counts[3]*0.75    # Aa + Aa\n",
        "  counts[4] = counts[4]*0.5     # Aa + aa\n",
        "  counts[5] = 0                 # aa + aa\n",
        "\n",
        "  return str(sum(counts))\n"
      ],
      "metadata": {
        "id": "OZvRnZeau_UX"
      },
      "execution_count": null,
      "outputs": []
    },
    {
      "cell_type": "code",
      "source": [
        "iev_sample = \"1 0 0 1 0 1\"\n",
        "iev(iev_sample)"
      ],
      "metadata": {
        "colab": {
          "base_uri": "https://localhost:8080/",
          "height": 36
        },
        "id": "mRNTOlEQxPtJ",
        "outputId": "97bb5c50-bdf5-481f-986b-672b296249a0"
      },
      "execution_count": null,
      "outputs": [
        {
          "output_type": "execute_result",
          "data": {
            "text/plain": [
              "'3.5'"
            ],
            "application/vnd.google.colaboratory.intrinsic+json": {
              "type": "string"
            }
          },
          "metadata": {},
          "execution_count": 22
        }
      ]
    },
    {
      "cell_type": "markdown",
      "source": [
        "##FIB: [Rabbits and Recurrence Relations](https://rosalind.info/problems/fib/)"
      ],
      "metadata": {
        "id": "lngCCCGY_wBA"
      }
    },
    {
      "cell_type": "code",
      "source": [
        "def fib(numbers):\n",
        "  \"\"\"Solves: https://rosalind.info/problems/fib/\n",
        "\n",
        "  Given:  Positive integers n <= 40and k <= 5 as a string.\n",
        "  Return: The total number of rabbit pairs that will be present after n months,\n",
        "          if we begin with 1 pair and in each generation, every pair of\n",
        "          reproduction-age rabbits produces a litter of k rabbit pairs\n",
        "          (instead of only 1 pair).\n",
        "  \"\"\"\n",
        "\n",
        "  n = int(numbers.split()[0])\n",
        "  k = int(numbers.split()[1])\n",
        "\n",
        "  def fib2(n, k):\n",
        "\n",
        "    if n == 1:\n",
        "      return 1\n",
        "\n",
        "    if n == 2:\n",
        "      return k\n",
        "\n",
        "    gen_one = fib2(n-1, k)\n",
        "    gen_two = fib2(n-2, k)\n",
        "\n",
        "    if n <= 4:\n",
        "      return gen_one + gen_two\n",
        "\n",
        "    return gen_one + gen_two*k\n",
        "\n",
        "  return str(fib2(n, k))"
      ],
      "metadata": {
        "id": "rHEyxstSwc52"
      },
      "execution_count": null,
      "outputs": []
    },
    {
      "cell_type": "code",
      "source": [
        "fib_sample = \"5 3\"\n",
        "\n",
        "fib(fib_sample) == \"19\""
      ],
      "metadata": {
        "colab": {
          "base_uri": "https://localhost:8080/"
        },
        "id": "p32s6TZix25i",
        "outputId": "96e12a28-c31e-493b-ca50-dff547672a61"
      },
      "execution_count": null,
      "outputs": [
        {
          "output_type": "execute_result",
          "data": {
            "text/plain": [
              "True"
            ]
          },
          "metadata": {},
          "execution_count": 50
        }
      ]
    },
    {
      "cell_type": "code",
      "source": [
        "workflow(\"fib\")"
      ],
      "metadata": {
        "colab": {
          "base_uri": "https://localhost:8080/",
          "height": 160
        },
        "id": "eesiwhTD6XMB",
        "outputId": "10fee506-a978-41c7-b635-a1cd815fc643"
      },
      "execution_count": null,
      "outputs": [
        {
          "output_type": "stream",
          "name": "stdout",
          "text": [
            "First download a dataset from Rosalind https://rosalind.info/problems/fib/\n",
            "\n",
            "Next upload this dataset by clicking the [Choose Files] button below:\n",
            "\n"
          ]
        },
        {
          "output_type": "display_data",
          "data": {
            "text/plain": [
              "<IPython.core.display.HTML object>"
            ],
            "text/html": [
              "\n",
              "     <input type=\"file\" id=\"files-5f94f314-bd6d-42f6-b57e-0a8ab630fa1c\" name=\"files[]\" multiple disabled\n",
              "        style=\"border:none\" />\n",
              "     <output id=\"result-5f94f314-bd6d-42f6-b57e-0a8ab630fa1c\">\n",
              "      Upload widget is only available when the cell has been executed in the\n",
              "      current browser session. Please rerun this cell to enable.\n",
              "      </output>\n",
              "      <script>// Copyright 2017 Google LLC\n",
              "//\n",
              "// Licensed under the Apache License, Version 2.0 (the \"License\");\n",
              "// you may not use this file except in compliance with the License.\n",
              "// You may obtain a copy of the License at\n",
              "//\n",
              "//      http://www.apache.org/licenses/LICENSE-2.0\n",
              "//\n",
              "// Unless required by applicable law or agreed to in writing, software\n",
              "// distributed under the License is distributed on an \"AS IS\" BASIS,\n",
              "// WITHOUT WARRANTIES OR CONDITIONS OF ANY KIND, either express or implied.\n",
              "// See the License for the specific language governing permissions and\n",
              "// limitations under the License.\n",
              "\n",
              "/**\n",
              " * @fileoverview Helpers for google.colab Python module.\n",
              " */\n",
              "(function(scope) {\n",
              "function span(text, styleAttributes = {}) {\n",
              "  const element = document.createElement('span');\n",
              "  element.textContent = text;\n",
              "  for (const key of Object.keys(styleAttributes)) {\n",
              "    element.style[key] = styleAttributes[key];\n",
              "  }\n",
              "  return element;\n",
              "}\n",
              "\n",
              "// Max number of bytes which will be uploaded at a time.\n",
              "const MAX_PAYLOAD_SIZE = 100 * 1024;\n",
              "\n",
              "function _uploadFiles(inputId, outputId) {\n",
              "  const steps = uploadFilesStep(inputId, outputId);\n",
              "  const outputElement = document.getElementById(outputId);\n",
              "  // Cache steps on the outputElement to make it available for the next call\n",
              "  // to uploadFilesContinue from Python.\n",
              "  outputElement.steps = steps;\n",
              "\n",
              "  return _uploadFilesContinue(outputId);\n",
              "}\n",
              "\n",
              "// This is roughly an async generator (not supported in the browser yet),\n",
              "// where there are multiple asynchronous steps and the Python side is going\n",
              "// to poll for completion of each step.\n",
              "// This uses a Promise to block the python side on completion of each step,\n",
              "// then passes the result of the previous step as the input to the next step.\n",
              "function _uploadFilesContinue(outputId) {\n",
              "  const outputElement = document.getElementById(outputId);\n",
              "  const steps = outputElement.steps;\n",
              "\n",
              "  const next = steps.next(outputElement.lastPromiseValue);\n",
              "  return Promise.resolve(next.value.promise).then((value) => {\n",
              "    // Cache the last promise value to make it available to the next\n",
              "    // step of the generator.\n",
              "    outputElement.lastPromiseValue = value;\n",
              "    return next.value.response;\n",
              "  });\n",
              "}\n",
              "\n",
              "/**\n",
              " * Generator function which is called between each async step of the upload\n",
              " * process.\n",
              " * @param {string} inputId Element ID of the input file picker element.\n",
              " * @param {string} outputId Element ID of the output display.\n",
              " * @return {!Iterable<!Object>} Iterable of next steps.\n",
              " */\n",
              "function* uploadFilesStep(inputId, outputId) {\n",
              "  const inputElement = document.getElementById(inputId);\n",
              "  inputElement.disabled = false;\n",
              "\n",
              "  const outputElement = document.getElementById(outputId);\n",
              "  outputElement.innerHTML = '';\n",
              "\n",
              "  const pickedPromise = new Promise((resolve) => {\n",
              "    inputElement.addEventListener('change', (e) => {\n",
              "      resolve(e.target.files);\n",
              "    });\n",
              "  });\n",
              "\n",
              "  const cancel = document.createElement('button');\n",
              "  inputElement.parentElement.appendChild(cancel);\n",
              "  cancel.textContent = 'Cancel upload';\n",
              "  const cancelPromise = new Promise((resolve) => {\n",
              "    cancel.onclick = () => {\n",
              "      resolve(null);\n",
              "    };\n",
              "  });\n",
              "\n",
              "  // Wait for the user to pick the files.\n",
              "  const files = yield {\n",
              "    promise: Promise.race([pickedPromise, cancelPromise]),\n",
              "    response: {\n",
              "      action: 'starting',\n",
              "    }\n",
              "  };\n",
              "\n",
              "  cancel.remove();\n",
              "\n",
              "  // Disable the input element since further picks are not allowed.\n",
              "  inputElement.disabled = true;\n",
              "\n",
              "  if (!files) {\n",
              "    return {\n",
              "      response: {\n",
              "        action: 'complete',\n",
              "      }\n",
              "    };\n",
              "  }\n",
              "\n",
              "  for (const file of files) {\n",
              "    const li = document.createElement('li');\n",
              "    li.append(span(file.name, {fontWeight: 'bold'}));\n",
              "    li.append(span(\n",
              "        `(${file.type || 'n/a'}) - ${file.size} bytes, ` +\n",
              "        `last modified: ${\n",
              "            file.lastModifiedDate ? file.lastModifiedDate.toLocaleDateString() :\n",
              "                                    'n/a'} - `));\n",
              "    const percent = span('0% done');\n",
              "    li.appendChild(percent);\n",
              "\n",
              "    outputElement.appendChild(li);\n",
              "\n",
              "    const fileDataPromise = new Promise((resolve) => {\n",
              "      const reader = new FileReader();\n",
              "      reader.onload = (e) => {\n",
              "        resolve(e.target.result);\n",
              "      };\n",
              "      reader.readAsArrayBuffer(file);\n",
              "    });\n",
              "    // Wait for the data to be ready.\n",
              "    let fileData = yield {\n",
              "      promise: fileDataPromise,\n",
              "      response: {\n",
              "        action: 'continue',\n",
              "      }\n",
              "    };\n",
              "\n",
              "    // Use a chunked sending to avoid message size limits. See b/62115660.\n",
              "    let position = 0;\n",
              "    do {\n",
              "      const length = Math.min(fileData.byteLength - position, MAX_PAYLOAD_SIZE);\n",
              "      const chunk = new Uint8Array(fileData, position, length);\n",
              "      position += length;\n",
              "\n",
              "      const base64 = btoa(String.fromCharCode.apply(null, chunk));\n",
              "      yield {\n",
              "        response: {\n",
              "          action: 'append',\n",
              "          file: file.name,\n",
              "          data: base64,\n",
              "        },\n",
              "      };\n",
              "\n",
              "      let percentDone = fileData.byteLength === 0 ?\n",
              "          100 :\n",
              "          Math.round((position / fileData.byteLength) * 100);\n",
              "      percent.textContent = `${percentDone}% done`;\n",
              "\n",
              "    } while (position < fileData.byteLength);\n",
              "  }\n",
              "\n",
              "  // All done.\n",
              "  yield {\n",
              "    response: {\n",
              "      action: 'complete',\n",
              "    }\n",
              "  };\n",
              "}\n",
              "\n",
              "scope.google = scope.google || {};\n",
              "scope.google.colab = scope.google.colab || {};\n",
              "scope.google.colab._files = {\n",
              "  _uploadFiles,\n",
              "  _uploadFilesContinue,\n",
              "};\n",
              "})(self);\n",
              "</script> "
            ]
          },
          "metadata": {}
        },
        {
          "output_type": "stream",
          "name": "stdout",
          "text": [
            "Saving 19 rosalind_fib.txt to 19 rosalind_fib.txt\n",
            "2863311531\n"
          ]
        },
        {
          "output_type": "display_data",
          "data": {
            "text/plain": [
              "<IPython.core.display.Javascript object>"
            ],
            "application/javascript": [
              "\n",
              "    async function download(id, filename, size) {\n",
              "      if (!google.colab.kernel.accessAllowed) {\n",
              "        return;\n",
              "      }\n",
              "      const div = document.createElement('div');\n",
              "      const label = document.createElement('label');\n",
              "      label.textContent = `Downloading \"${filename}\": `;\n",
              "      div.appendChild(label);\n",
              "      const progress = document.createElement('progress');\n",
              "      progress.max = size;\n",
              "      div.appendChild(progress);\n",
              "      document.body.appendChild(div);\n",
              "\n",
              "      const buffers = [];\n",
              "      let downloaded = 0;\n",
              "\n",
              "      const channel = await google.colab.kernel.comms.open(id);\n",
              "      // Send a message to notify the kernel that we're ready.\n",
              "      channel.send({})\n",
              "\n",
              "      for await (const message of channel.messages) {\n",
              "        // Send a message to notify the kernel that we're ready.\n",
              "        channel.send({})\n",
              "        if (message.buffers) {\n",
              "          for (const buffer of message.buffers) {\n",
              "            buffers.push(buffer);\n",
              "            downloaded += buffer.byteLength;\n",
              "            progress.value = downloaded;\n",
              "          }\n",
              "        }\n",
              "      }\n",
              "      const blob = new Blob(buffers, {type: 'application/binary'});\n",
              "      const a = document.createElement('a');\n",
              "      a.href = window.URL.createObjectURL(blob);\n",
              "      a.download = filename;\n",
              "      div.appendChild(a);\n",
              "      a.click();\n",
              "      div.remove();\n",
              "    }\n",
              "  "
            ]
          },
          "metadata": {}
        },
        {
          "output_type": "display_data",
          "data": {
            "text/plain": [
              "<IPython.core.display.Javascript object>"
            ],
            "application/javascript": [
              "download(\"download_9a9ae52b-75b2-4745-82d0-f2d12e89adb5\", \"rosalind_fib_output.txt\", 10)"
            ]
          },
          "metadata": {}
        }
      ]
    },
    {
      "cell_type": "markdown",
      "source": [
        "##CONS: [Consensus and Profile](https://rosalind.info/problems/cons/)"
      ],
      "metadata": {
        "id": "ijltdDR3uyo2"
      }
    },
    {
      "cell_type": "code",
      "source": [
        "def cons(fasta):\n",
        "  \"\"\" Solves: https://rosalind.info/problems/cons/\n",
        "\n",
        "  Given:  A collection of at most 10 DNA strings of equal length (at most 1 kbp)\n",
        "          in FASTA format.\n",
        "  Return: A consensus string and profile matrix for the collection.\n",
        "          (If several possible consensus strings exist, then you may return\n",
        "          any one of them.)\n",
        "  \"\"\"\n",
        "\n",
        "  seq_list = parse_fasta(fasta).iloc[:,1]\n",
        "  dna_length = len(seq_list[0])\n",
        "\n",
        "  matrix = []\n",
        "  for i in range(dna_length):\n",
        "    matrix.append([0]*4)\n",
        "\n",
        "  nt_dict = {\"A\":0, \"C\":1, \"G\":2, \"T\":3}\n",
        "  rev_nt_dict = {0:\"A\", 1:\"C\", 2:\"G\", 3:\"T\"}\n",
        "\n",
        "  for position in range(dna_length):\n",
        "    for sequence in seq_list:\n",
        "      nt = sequence[position]\n",
        "      matrix[position][nt_dict[nt]] += 1\n",
        "\n",
        "  text_list =[\"A:\", \"\\nC:\", \"\\nG:\", \"\\nT:\"]\n",
        "\n",
        "  for position in range(dna_length):\n",
        "    for n in range(4):\n",
        "      text_list[n] += \" \" + str(matrix[position][n])\n",
        "\n",
        "  output_string = \"\".join(text_list)\n",
        "  consensus_sequence = \"\"\n",
        "\n",
        "  for position_column in matrix:\n",
        "    max_index = position_column.index(max(position_column))\n",
        "    consensus_sequence += rev_nt_dict[max_index]\n",
        "\n",
        "  output_string = consensus_sequence + \"\\n\"+ output_string\n",
        "\n",
        "  return output_string"
      ],
      "metadata": {
        "id": "PIERywVq7cgp"
      },
      "execution_count": 139,
      "outputs": []
    },
    {
      "cell_type": "code",
      "source": [
        "cons_sample = \"\"\">Rosalind_1\n",
        "ATCCAGCT\n",
        ">Rosalind_2\n",
        "GGGCAACT\n",
        ">Rosalind_3\n",
        "ATGGATCT\n",
        ">Rosalind_4\n",
        "AAGCAACC\n",
        ">Rosalind_5\n",
        "TTGGAACT\n",
        ">Rosalind_6\n",
        "ATGCCATT\n",
        ">Rosalind_7\n",
        "ATGGCACT\n",
        "\"\"\"\n",
        "\n",
        "print(cons(cons_sample))\n"
      ],
      "metadata": {
        "colab": {
          "base_uri": "https://localhost:8080/"
        },
        "id": "DEjEQ1Xy8mAL",
        "outputId": "cb32ba47-ae4c-4c61-e68a-e3c57a59310f"
      },
      "execution_count": 140,
      "outputs": [
        {
          "output_type": "stream",
          "name": "stdout",
          "text": [
            "ATGCAACT\n",
            "A: 5 1 0 0 5 5 0 0\n",
            "C: 0 0 1 4 2 0 6 1\n",
            "G: 1 1 6 3 0 1 0 0\n",
            "T: 1 5 0 0 0 1 1 6\n"
          ]
        }
      ]
    }
  ]
}